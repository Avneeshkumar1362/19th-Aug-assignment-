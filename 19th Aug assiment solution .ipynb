{
 "cells": [
  {
   "cell_type": "markdown",
   "id": "2c61f7c3-9a56-43ab-902d-8d028bf71395",
   "metadata": {},
   "source": [
    "## Topic"
   ]
  },
  {
   "cell_type": "markdown",
   "id": "86ca5a7a-e6a7-46b7-a722-0af92ab84cd4",
   "metadata": {},
   "source": [
    "### **Python Basics Variable:**"
   ]
  },
  {
   "cell_type": "markdown",
   "id": "9a9bf0d7-0045-43a1-ae69-340d57432826",
   "metadata": {},
   "source": [
    "---\n",
    "---"
   ]
  },
  {
   "cell_type": "markdown",
   "id": "e75a64f0-ce34-4bd2-9f61-925d953fad5c",
   "metadata": {},
   "source": [
    "1. Declare two variables, `x` and `y`, and assign them integer values. Swap the\n",
    "values of these variables without using any temporary variable."
   ]
  },
  {
   "cell_type": "markdown",
   "id": "4afe624f-533f-4a92-bd70-02bea549f735",
   "metadata": {},
   "source": [
    "## 1. String Based Questions."
   ]
  },
  {
   "cell_type": "markdown",
   "id": "93362156-0dfc-4c82-9d4a-f96a8917af90",
   "metadata": {},
   "source": [
    "## 1. Write a Python program that takes a string as input and prints the length of the string."
   ]
  },
  {
   "cell_type": "code",
   "execution_count": 5,
   "id": "5b17644a-89e9-4b1e-b433-9248c8624641",
   "metadata": {},
   "outputs": [],
   "source": [
    "a = \"pw skills\""
   ]
  },
  {
   "cell_type": "code",
   "execution_count": 9,
   "id": "7ed13a1d-38dc-4376-b8e8-473e288ac602",
   "metadata": {},
   "outputs": [
    {
     "data": {
      "text/plain": [
       "9"
      ]
     },
     "execution_count": 9,
     "metadata": {},
     "output_type": "execute_result"
    }
   ],
   "source": [
    "len(a)"
   ]
  },
  {
   "cell_type": "code",
   "execution_count": 10,
   "id": "bcb1824b-5196-469a-ba57-98257998198c",
   "metadata": {},
   "outputs": [
    {
     "data": {
      "text/plain": [
       "str"
      ]
     },
     "execution_count": 10,
     "metadata": {},
     "output_type": "execute_result"
    }
   ],
   "source": [
    "type(a)"
   ]
  },
  {
   "cell_type": "code",
   "execution_count": 11,
   "id": "6b5af810-3ecb-4a30-85f5-bbfc07f27312",
   "metadata": {},
   "outputs": [],
   "source": [
    "# step 1 : first create varibale a for storing the data \n",
    "#step 2 : a is variable and pw skills is store inside of the a .\n",
    "#step 3: call function  len(a) then give me out put length of string \n",
    "#step 4: call type of data gives string type of data "
   ]
  },
  {
   "cell_type": "markdown",
   "id": "65abba6d-1f59-41ea-aa6e-9906e7190006",
   "metadata": {},
   "source": [
    "## 2. Create a program that takes a sentence from the user and counts the numberof vowels (a, e, i, o, u) in the string."
   ]
  },
  {
   "cell_type": "code",
   "execution_count": 1,
   "id": "e1d86de7-f3c5-448d-abb2-fd89abec628f",
   "metadata": {},
   "outputs": [],
   "source": [
    "a='pwskills'"
   ]
  },
  {
   "cell_type": "code",
   "execution_count": 8,
   "id": "2bedada6-95ff-4480-b2f4-3464634fb5c1",
   "metadata": {},
   "outputs": [
    {
     "data": {
      "text/plain": [
       "2"
      ]
     },
     "execution_count": 8,
     "metadata": {},
     "output_type": "execute_result"
    }
   ],
   "source": [
    "a.count('s')"
   ]
  },
  {
   "cell_type": "code",
   "execution_count": 10,
   "id": "e9d58bc6-e1ed-4c54-8d3b-85eae346a539",
   "metadata": {},
   "outputs": [
    {
     "data": {
      "text/plain": [
       "str"
      ]
     },
     "execution_count": 10,
     "metadata": {},
     "output_type": "execute_result"
    }
   ],
   "source": [
    "type(a)"
   ]
  },
  {
   "cell_type": "code",
   "execution_count": 13,
   "id": "1dbe8a6e-a2ea-4a6b-aa63-4329f9a01daa",
   "metadata": {},
   "outputs": [],
   "source": [
    "#step 1:2. Create a program that takes a sentence from the user and counts the number of vowels (s) in the string is 2 .\n",
    "#step 2: call the a.count(s) then gives me number of s is 2 ."
   ]
  },
  {
   "cell_type": "markdown",
   "id": "ba160130-9e9e-4d3f-a5e9-a58ff1b9c41d",
   "metadata": {},
   "source": [
    "##  3. Given a string, reverse the order of characters using string slicing and printthe reversed string."
   ]
  },
  {
   "cell_type": "code",
   "execution_count": 14,
   "id": "d9091be0-b216-40b5-a208-1a015c223853",
   "metadata": {},
   "outputs": [],
   "source": [
    "s= \"pw skills \""
   ]
  },
  {
   "cell_type": "code",
   "execution_count": 15,
   "id": "700dcca9-663e-48eb-b03d-28b2e9da5984",
   "metadata": {},
   "outputs": [
    {
     "data": {
      "text/plain": [
       "' slliks wp'"
      ]
     },
     "execution_count": 15,
     "metadata": {},
     "output_type": "execute_result"
    }
   ],
   "source": [
    "s[::-1]"
   ]
  },
  {
   "cell_type": "code",
   "execution_count": 16,
   "id": "415f3291-2f3c-46ca-baa4-6a14c4ebea20",
   "metadata": {},
   "outputs": [],
   "source": [
    "#step 1: first create the string \"pw skills\"\n",
    "#step 2: using slicing and call s[::-1] \n",
    "#step 3: gives out put 'slliks wp'"
   ]
  },
  {
   "cell_type": "markdown",
   "id": "32ae6668-e126-4f9d-bb92-aa33662baa32",
   "metadata": {},
   "source": [
    "## 4. Write a program that takes a string as input and checks if it is a palindrome(reads the same forwards and backwards)."
   ]
  },
  {
   "cell_type": "code",
   "execution_count": null,
   "id": "1d91c310-a245-4c2f-ac7c-5c798eb22d46",
   "metadata": {},
   "outputs": [],
   "source": [
    "a_string='was it a car or a cat I saw '\n",
    "def palindome(string):\n",
    "    string=string.lower().replace('','')\n",
    "    return string == string[::-1]\n",
    "print(palindrome(a_string))\n",
    "\n",
    "\n",
    "#returns : True \n",
    "#user string indexing in python to"
   ]
  },
  {
   "cell_type": "markdown",
   "id": "ac423299-2780-4198-943f-3ec561811d27",
   "metadata": {},
   "source": [
    "## Que-5 Create a program that takes a string as input and removes all the spaces from it. Print the modified string without spaces."
   ]
  },
  {
   "cell_type": "code",
   "execution_count": 3,
   "id": "23506fdb-0d68-4ac2-9872-93ef0b8d0fb5",
   "metadata": {},
   "outputs": [],
   "source": [
    "a=\"   pwskills    \""
   ]
  },
  {
   "cell_type": "code",
   "execution_count": 4,
   "id": "17783a7f-323d-44b6-8e4c-f1577c7e4b22",
   "metadata": {},
   "outputs": [
    {
     "data": {
      "text/plain": [
       "'pwskills'"
      ]
     },
     "execution_count": 4,
     "metadata": {},
     "output_type": "execute_result"
    }
   ],
   "source": [
    "a.strip()"
   ]
  },
  {
   "cell_type": "code",
   "execution_count": null,
   "id": "4c72fa7d-c2e1-44d0-97f5-d80235e0116e",
   "metadata": {},
   "outputs": [],
   "source": [
    "#step 1: Create a program that takes a string as input and removes all the spaces from pw skills \n",
    "#step 2: call the a.strip() then rem"
   ]
  }
 ],
 "metadata": {
  "kernelspec": {
   "display_name": "Python 3 (ipykernel)",
   "language": "python",
   "name": "python3"
  },
  "language_info": {
   "codemirror_mode": {
    "name": "ipython",
    "version": 3
   },
   "file_extension": ".py",
   "mimetype": "text/x-python",
   "name": "python",
   "nbconvert_exporter": "python",
   "pygments_lexer": "ipython3",
   "version": "3.10.8"
  }
 },
 "nbformat": 4,
 "nbformat_minor": 5
}
